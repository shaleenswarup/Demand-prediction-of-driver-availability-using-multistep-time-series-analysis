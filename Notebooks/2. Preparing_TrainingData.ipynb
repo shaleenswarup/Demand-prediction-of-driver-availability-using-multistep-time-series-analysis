{
 "cells": [
  {
   "cell_type": "markdown",
   "metadata": {},
   "source": [
    "## Dataset Insights\n",
    "\n",
    "### DriversProfile.csv\n",
    "+ No NULL or Missing Values\n",
    "+ Duplicate Values subset=[driver_id], count: 3\n",
    "+ 2497: Unique Driver Ids\n",
    "+ Driver Age varies from 18 to 75 | Median at 31years\n",
    "+ Gender column is categorical with two classes Male and Female; Male= 1894, Female= 606\n",
    "+ Age and Number of Children has +ve correlation\n",
    "\n",
    "### Pings_Data\n",
    "+ 2 Columns | Driverid and pingtimestamp\n",
    "+ Data Contains Duplicate Values: 79086 count\n",
    "+ No NaN values found in Data.\n",
    "+ 2480: Unique Driver Ids\n",
    "+ No considering: Removing 22nd June Data\n",
    "\n",
    "### Processed Pings Data to get Number of hours a Driver is Available\n",
    "+ Data rows: Unique Driver Ids * 21days = 2480 * 21 = 52080\n",
    "\n",
    "### Final Training Dataset \n",
    "+ Should Have: 2497 driver_id and 2497*21=> 52437 data rows"
   ]
  },
  {
   "cell_type": "code",
   "execution_count": 1,
   "metadata": {},
   "outputs": [],
   "source": [
    "import pandas as pd\n",
    "import numpy as np\n",
    "import pandas_profiling"
   ]
  },
  {
   "cell_type": "code",
   "execution_count": 26,
   "metadata": {},
   "outputs": [
    {
     "name": "stdout",
     "output_type": "stream",
     "text": [
      "\u001b[31m1. Data Analysis and Preprocessing.ipynb\u001b[m\u001b[m\r\n",
      "\u001b[31m2. Preparing_TrainingData.ipynb\u001b[m\u001b[m\r\n",
      "3. Model_Training.ipynb\r\n",
      "\u001b[31m4. Test_Script.ipynb\u001b[m\u001b[m\r\n",
      "\u001b[31mREADME.md\u001b[m\u001b[m\r\n",
      "\u001b[31mprediction_script.py\u001b[m\u001b[m\r\n",
      "\u001b[31mrequirements.txt\u001b[m\u001b[m\r\n"
     ]
    }
   ],
   "source": [
    "!ls"
   ]
  },
  {
   "cell_type": "code",
   "execution_count": 3,
   "metadata": {},
   "outputs": [],
   "source": [
    "df_pings = pd.read_csv('./../data/pings.csv')"
   ]
  },
  {
   "cell_type": "code",
   "execution_count": 4,
   "metadata": {},
   "outputs": [
    {
     "data": {
      "text/plain": [
       "2480"
      ]
     },
     "execution_count": 4,
     "metadata": {},
     "output_type": "execute_result"
    }
   ],
   "source": [
    "## Count of Unique drivers in Pings.csv\n",
    "len(np.unique(df_pings.driver_id.values))"
   ]
  },
  {
   "cell_type": "code",
   "execution_count": 5,
   "metadata": {},
   "outputs": [],
   "source": [
    "## Processed Driver Hours Data\n",
    "driver_hours = pd.read_csv('../processed_data_and_models/Pings_Grouped_Data.csv')"
   ]
  },
  {
   "cell_type": "code",
   "execution_count": 6,
   "metadata": {},
   "outputs": [],
   "source": [
    "## VERIFIED | Data rows: Unique Driver Ids * 21days = 2480 * 21 = 52080\n",
    "assert 52080 == len(driver_hours)"
   ]
  },
  {
   "cell_type": "code",
   "execution_count": 7,
   "metadata": {},
   "outputs": [],
   "source": [
    "driver_profile = pd.read_csv('../processed_data_and_models/driver.csv')"
   ]
  },
  {
   "cell_type": "code",
   "execution_count": 8,
   "metadata": {},
   "outputs": [
    {
     "data": {
      "text/html": [
       "<div>\n",
       "<style scoped>\n",
       "    .dataframe tbody tr th:only-of-type {\n",
       "        vertical-align: middle;\n",
       "    }\n",
       "\n",
       "    .dataframe tbody tr th {\n",
       "        vertical-align: top;\n",
       "    }\n",
       "\n",
       "    .dataframe thead th {\n",
       "        text-align: right;\n",
       "    }\n",
       "</style>\n",
       "<table border=\"1\" class=\"dataframe\">\n",
       "  <thead>\n",
       "    <tr style=\"text-align: right;\">\n",
       "      <th></th>\n",
       "      <th>driver_id</th>\n",
       "      <th>gender</th>\n",
       "      <th>age</th>\n",
       "      <th>number_of_kids</th>\n",
       "    </tr>\n",
       "  </thead>\n",
       "  <tbody>\n",
       "    <tr>\n",
       "      <th>0</th>\n",
       "      <td>979863</td>\n",
       "      <td>MALE</td>\n",
       "      <td>26</td>\n",
       "      <td>2</td>\n",
       "    </tr>\n",
       "    <tr>\n",
       "      <th>1</th>\n",
       "      <td>780123</td>\n",
       "      <td>MALE</td>\n",
       "      <td>60</td>\n",
       "      <td>2</td>\n",
       "    </tr>\n",
       "    <tr>\n",
       "      <th>2</th>\n",
       "      <td>614848</td>\n",
       "      <td>MALE</td>\n",
       "      <td>45</td>\n",
       "      <td>4</td>\n",
       "    </tr>\n",
       "    <tr>\n",
       "      <th>3</th>\n",
       "      <td>775046</td>\n",
       "      <td>MALE</td>\n",
       "      <td>62</td>\n",
       "      <td>3</td>\n",
       "    </tr>\n",
       "    <tr>\n",
       "      <th>4</th>\n",
       "      <td>991601</td>\n",
       "      <td>MALE</td>\n",
       "      <td>23</td>\n",
       "      <td>0</td>\n",
       "    </tr>\n",
       "    <tr>\n",
       "      <th>5</th>\n",
       "      <td>670477</td>\n",
       "      <td>MALE</td>\n",
       "      <td>36</td>\n",
       "      <td>1</td>\n",
       "    </tr>\n",
       "    <tr>\n",
       "      <th>6</th>\n",
       "      <td>194053</td>\n",
       "      <td>MALE</td>\n",
       "      <td>35</td>\n",
       "      <td>0</td>\n",
       "    </tr>\n",
       "    <tr>\n",
       "      <th>7</th>\n",
       "      <td>364596</td>\n",
       "      <td>FEMALE</td>\n",
       "      <td>36</td>\n",
       "      <td>4</td>\n",
       "    </tr>\n",
       "    <tr>\n",
       "      <th>8</th>\n",
       "      <td>640428</td>\n",
       "      <td>MALE</td>\n",
       "      <td>28</td>\n",
       "      <td>0</td>\n",
       "    </tr>\n",
       "    <tr>\n",
       "      <th>9</th>\n",
       "      <td>154517</td>\n",
       "      <td>MALE</td>\n",
       "      <td>25</td>\n",
       "      <td>2</td>\n",
       "    </tr>\n",
       "  </tbody>\n",
       "</table>\n",
       "</div>"
      ],
      "text/plain": [
       "   driver_id  gender  age  number_of_kids\n",
       "0     979863    MALE   26               2\n",
       "1     780123    MALE   60               2\n",
       "2     614848    MALE   45               4\n",
       "3     775046    MALE   62               3\n",
       "4     991601    MALE   23               0\n",
       "5     670477    MALE   36               1\n",
       "6     194053    MALE   35               0\n",
       "7     364596  FEMALE   36               4\n",
       "8     640428    MALE   28               0\n",
       "9     154517    MALE   25               2"
      ]
     },
     "execution_count": 8,
     "metadata": {},
     "output_type": "execute_result"
    }
   ],
   "source": [
    "driver_profile.head(10)"
   ]
  },
  {
   "cell_type": "code",
   "execution_count": 9,
   "metadata": {},
   "outputs": [
    {
     "data": {
      "text/plain": [
       "{230923,\n",
       " 373792,\n",
       " 425331,\n",
       " 523243,\n",
       " 585955,\n",
       " 616243,\n",
       " 675613,\n",
       " 682678,\n",
       " 743899,\n",
       " 756684,\n",
       " 772057,\n",
       " 808404,\n",
       " 854976,\n",
       " 934994,\n",
       " 971478,\n",
       " 993757,\n",
       " 998740}"
      ]
     },
     "execution_count": 9,
     "metadata": {},
     "output_type": "execute_result"
    }
   ],
   "source": [
    "## Driver_Id for which we don't have PingData or they were not available \n",
    "set(np.unique(driver_profile.driver_id.values)) - set(np.unique(driver_hours.driver_id.values))"
   ]
  },
  {
   "cell_type": "markdown",
   "metadata": {},
   "source": [
    "### Merge Data | Driver Profile and Driver Hours on = [driver_id]"
   ]
  },
  {
   "cell_type": "code",
   "execution_count": 10,
   "metadata": {},
   "outputs": [],
   "source": [
    "## Left Join\n",
    "dataset = pd.merge(driver_profile, driver_hours, on = ['driver_id'], how = 'left')"
   ]
  },
  {
   "cell_type": "code",
   "execution_count": 11,
   "metadata": {},
   "outputs": [
    {
     "data": {
      "text/html": [
       "<div>\n",
       "<style scoped>\n",
       "    .dataframe tbody tr th:only-of-type {\n",
       "        vertical-align: middle;\n",
       "    }\n",
       "\n",
       "    .dataframe tbody tr th {\n",
       "        vertical-align: top;\n",
       "    }\n",
       "\n",
       "    .dataframe thead th {\n",
       "        text-align: right;\n",
       "    }\n",
       "</style>\n",
       "<table border=\"1\" class=\"dataframe\">\n",
       "  <thead>\n",
       "    <tr style=\"text-align: right;\">\n",
       "      <th></th>\n",
       "      <th>driver_id</th>\n",
       "      <th>gender</th>\n",
       "      <th>age</th>\n",
       "      <th>number_of_kids</th>\n",
       "      <th>date</th>\n",
       "      <th>available_hours</th>\n",
       "      <th>dayofweek</th>\n",
       "    </tr>\n",
       "  </thead>\n",
       "  <tbody>\n",
       "    <tr>\n",
       "      <th>17518</th>\n",
       "      <td>230923</td>\n",
       "      <td>MALE</td>\n",
       "      <td>18</td>\n",
       "      <td>0</td>\n",
       "      <td>NaN</td>\n",
       "      <td>NaN</td>\n",
       "      <td>NaN</td>\n",
       "    </tr>\n",
       "  </tbody>\n",
       "</table>\n",
       "</div>"
      ],
      "text/plain": [
       "       driver_id gender  age  number_of_kids date  available_hours  dayofweek\n",
       "17518     230923   MALE   18               0  NaN              NaN        NaN"
      ]
     },
     "execution_count": 11,
     "metadata": {},
     "output_type": "execute_result"
    }
   ],
   "source": [
    "dataset[dataset.driver_id == 230923]"
   ]
  },
  {
   "cell_type": "code",
   "execution_count": 12,
   "metadata": {},
   "outputs": [],
   "source": [
    "dataset['date'].fillna('2017-06-01',inplace = True)"
   ]
  },
  {
   "cell_type": "code",
   "execution_count": 13,
   "metadata": {},
   "outputs": [],
   "source": [
    "## Fill in missing Date For Driver with Available_hours = 0\n",
    "dataset.date = pd.to_datetime(dataset.date)\n",
    "dataset = dataset.set_index(\n",
    "    ['date', 'driver_id']\n",
    ").unstack().fillna(method = 'ffill').asfreq(\n",
    "    'D'\n",
    ").stack().sort_index(level=1).reset_index()"
   ]
  },
  {
   "cell_type": "code",
   "execution_count": 14,
   "metadata": {},
   "outputs": [],
   "source": [
    "dataset['dayofweek'].fillna(dataset['date'].dt.dayofweek, inplace = True)\n",
    "dataset['available_hours'].fillna(0,inplace = True)"
   ]
  },
  {
   "cell_type": "code",
   "execution_count": 15,
   "metadata": {},
   "outputs": [
    {
     "data": {
      "text/html": [
       "<div>\n",
       "<style scoped>\n",
       "    .dataframe tbody tr th:only-of-type {\n",
       "        vertical-align: middle;\n",
       "    }\n",
       "\n",
       "    .dataframe tbody tr th {\n",
       "        vertical-align: top;\n",
       "    }\n",
       "\n",
       "    .dataframe thead th {\n",
       "        text-align: right;\n",
       "    }\n",
       "</style>\n",
       "<table border=\"1\" class=\"dataframe\">\n",
       "  <thead>\n",
       "    <tr style=\"text-align: right;\">\n",
       "      <th></th>\n",
       "      <th>date</th>\n",
       "      <th>driver_id</th>\n",
       "      <th>gender</th>\n",
       "      <th>age</th>\n",
       "      <th>number_of_kids</th>\n",
       "      <th>available_hours</th>\n",
       "      <th>dayofweek</th>\n",
       "    </tr>\n",
       "  </thead>\n",
       "  <tbody>\n",
       "    <tr>\n",
       "      <th>52416</th>\n",
       "      <td>2017-06-01</td>\n",
       "      <td>998740</td>\n",
       "      <td>MALE</td>\n",
       "      <td>27.0</td>\n",
       "      <td>0.0</td>\n",
       "      <td>0.0</td>\n",
       "      <td>3.0</td>\n",
       "    </tr>\n",
       "    <tr>\n",
       "      <th>52417</th>\n",
       "      <td>2017-06-02</td>\n",
       "      <td>998740</td>\n",
       "      <td>MALE</td>\n",
       "      <td>27.0</td>\n",
       "      <td>0.0</td>\n",
       "      <td>0.0</td>\n",
       "      <td>4.0</td>\n",
       "    </tr>\n",
       "    <tr>\n",
       "      <th>52418</th>\n",
       "      <td>2017-06-03</td>\n",
       "      <td>998740</td>\n",
       "      <td>MALE</td>\n",
       "      <td>27.0</td>\n",
       "      <td>0.0</td>\n",
       "      <td>0.0</td>\n",
       "      <td>5.0</td>\n",
       "    </tr>\n",
       "    <tr>\n",
       "      <th>52419</th>\n",
       "      <td>2017-06-04</td>\n",
       "      <td>998740</td>\n",
       "      <td>MALE</td>\n",
       "      <td>27.0</td>\n",
       "      <td>0.0</td>\n",
       "      <td>0.0</td>\n",
       "      <td>6.0</td>\n",
       "    </tr>\n",
       "    <tr>\n",
       "      <th>52420</th>\n",
       "      <td>2017-06-05</td>\n",
       "      <td>998740</td>\n",
       "      <td>MALE</td>\n",
       "      <td>27.0</td>\n",
       "      <td>0.0</td>\n",
       "      <td>0.0</td>\n",
       "      <td>0.0</td>\n",
       "    </tr>\n",
       "    <tr>\n",
       "      <th>52421</th>\n",
       "      <td>2017-06-06</td>\n",
       "      <td>998740</td>\n",
       "      <td>MALE</td>\n",
       "      <td>27.0</td>\n",
       "      <td>0.0</td>\n",
       "      <td>0.0</td>\n",
       "      <td>1.0</td>\n",
       "    </tr>\n",
       "    <tr>\n",
       "      <th>52422</th>\n",
       "      <td>2017-06-07</td>\n",
       "      <td>998740</td>\n",
       "      <td>MALE</td>\n",
       "      <td>27.0</td>\n",
       "      <td>0.0</td>\n",
       "      <td>0.0</td>\n",
       "      <td>2.0</td>\n",
       "    </tr>\n",
       "    <tr>\n",
       "      <th>52423</th>\n",
       "      <td>2017-06-08</td>\n",
       "      <td>998740</td>\n",
       "      <td>MALE</td>\n",
       "      <td>27.0</td>\n",
       "      <td>0.0</td>\n",
       "      <td>0.0</td>\n",
       "      <td>3.0</td>\n",
       "    </tr>\n",
       "    <tr>\n",
       "      <th>52424</th>\n",
       "      <td>2017-06-09</td>\n",
       "      <td>998740</td>\n",
       "      <td>MALE</td>\n",
       "      <td>27.0</td>\n",
       "      <td>0.0</td>\n",
       "      <td>0.0</td>\n",
       "      <td>4.0</td>\n",
       "    </tr>\n",
       "    <tr>\n",
       "      <th>52425</th>\n",
       "      <td>2017-06-10</td>\n",
       "      <td>998740</td>\n",
       "      <td>MALE</td>\n",
       "      <td>27.0</td>\n",
       "      <td>0.0</td>\n",
       "      <td>0.0</td>\n",
       "      <td>5.0</td>\n",
       "    </tr>\n",
       "    <tr>\n",
       "      <th>52426</th>\n",
       "      <td>2017-06-11</td>\n",
       "      <td>998740</td>\n",
       "      <td>MALE</td>\n",
       "      <td>27.0</td>\n",
       "      <td>0.0</td>\n",
       "      <td>0.0</td>\n",
       "      <td>6.0</td>\n",
       "    </tr>\n",
       "    <tr>\n",
       "      <th>52427</th>\n",
       "      <td>2017-06-12</td>\n",
       "      <td>998740</td>\n",
       "      <td>MALE</td>\n",
       "      <td>27.0</td>\n",
       "      <td>0.0</td>\n",
       "      <td>0.0</td>\n",
       "      <td>0.0</td>\n",
       "    </tr>\n",
       "    <tr>\n",
       "      <th>52428</th>\n",
       "      <td>2017-06-13</td>\n",
       "      <td>998740</td>\n",
       "      <td>MALE</td>\n",
       "      <td>27.0</td>\n",
       "      <td>0.0</td>\n",
       "      <td>0.0</td>\n",
       "      <td>1.0</td>\n",
       "    </tr>\n",
       "    <tr>\n",
       "      <th>52429</th>\n",
       "      <td>2017-06-14</td>\n",
       "      <td>998740</td>\n",
       "      <td>MALE</td>\n",
       "      <td>27.0</td>\n",
       "      <td>0.0</td>\n",
       "      <td>0.0</td>\n",
       "      <td>2.0</td>\n",
       "    </tr>\n",
       "    <tr>\n",
       "      <th>52430</th>\n",
       "      <td>2017-06-15</td>\n",
       "      <td>998740</td>\n",
       "      <td>MALE</td>\n",
       "      <td>27.0</td>\n",
       "      <td>0.0</td>\n",
       "      <td>0.0</td>\n",
       "      <td>3.0</td>\n",
       "    </tr>\n",
       "    <tr>\n",
       "      <th>52431</th>\n",
       "      <td>2017-06-16</td>\n",
       "      <td>998740</td>\n",
       "      <td>MALE</td>\n",
       "      <td>27.0</td>\n",
       "      <td>0.0</td>\n",
       "      <td>0.0</td>\n",
       "      <td>4.0</td>\n",
       "    </tr>\n",
       "    <tr>\n",
       "      <th>52432</th>\n",
       "      <td>2017-06-17</td>\n",
       "      <td>998740</td>\n",
       "      <td>MALE</td>\n",
       "      <td>27.0</td>\n",
       "      <td>0.0</td>\n",
       "      <td>0.0</td>\n",
       "      <td>5.0</td>\n",
       "    </tr>\n",
       "    <tr>\n",
       "      <th>52433</th>\n",
       "      <td>2017-06-18</td>\n",
       "      <td>998740</td>\n",
       "      <td>MALE</td>\n",
       "      <td>27.0</td>\n",
       "      <td>0.0</td>\n",
       "      <td>0.0</td>\n",
       "      <td>6.0</td>\n",
       "    </tr>\n",
       "    <tr>\n",
       "      <th>52434</th>\n",
       "      <td>2017-06-19</td>\n",
       "      <td>998740</td>\n",
       "      <td>MALE</td>\n",
       "      <td>27.0</td>\n",
       "      <td>0.0</td>\n",
       "      <td>0.0</td>\n",
       "      <td>0.0</td>\n",
       "    </tr>\n",
       "    <tr>\n",
       "      <th>52435</th>\n",
       "      <td>2017-06-20</td>\n",
       "      <td>998740</td>\n",
       "      <td>MALE</td>\n",
       "      <td>27.0</td>\n",
       "      <td>0.0</td>\n",
       "      <td>0.0</td>\n",
       "      <td>1.0</td>\n",
       "    </tr>\n",
       "    <tr>\n",
       "      <th>52436</th>\n",
       "      <td>2017-06-21</td>\n",
       "      <td>998740</td>\n",
       "      <td>MALE</td>\n",
       "      <td>27.0</td>\n",
       "      <td>0.0</td>\n",
       "      <td>0.0</td>\n",
       "      <td>2.0</td>\n",
       "    </tr>\n",
       "  </tbody>\n",
       "</table>\n",
       "</div>"
      ],
      "text/plain": [
       "            date  driver_id gender   age  number_of_kids  available_hours  \\\n",
       "52416 2017-06-01     998740   MALE  27.0             0.0              0.0   \n",
       "52417 2017-06-02     998740   MALE  27.0             0.0              0.0   \n",
       "52418 2017-06-03     998740   MALE  27.0             0.0              0.0   \n",
       "52419 2017-06-04     998740   MALE  27.0             0.0              0.0   \n",
       "52420 2017-06-05     998740   MALE  27.0             0.0              0.0   \n",
       "52421 2017-06-06     998740   MALE  27.0             0.0              0.0   \n",
       "52422 2017-06-07     998740   MALE  27.0             0.0              0.0   \n",
       "52423 2017-06-08     998740   MALE  27.0             0.0              0.0   \n",
       "52424 2017-06-09     998740   MALE  27.0             0.0              0.0   \n",
       "52425 2017-06-10     998740   MALE  27.0             0.0              0.0   \n",
       "52426 2017-06-11     998740   MALE  27.0             0.0              0.0   \n",
       "52427 2017-06-12     998740   MALE  27.0             0.0              0.0   \n",
       "52428 2017-06-13     998740   MALE  27.0             0.0              0.0   \n",
       "52429 2017-06-14     998740   MALE  27.0             0.0              0.0   \n",
       "52430 2017-06-15     998740   MALE  27.0             0.0              0.0   \n",
       "52431 2017-06-16     998740   MALE  27.0             0.0              0.0   \n",
       "52432 2017-06-17     998740   MALE  27.0             0.0              0.0   \n",
       "52433 2017-06-18     998740   MALE  27.0             0.0              0.0   \n",
       "52434 2017-06-19     998740   MALE  27.0             0.0              0.0   \n",
       "52435 2017-06-20     998740   MALE  27.0             0.0              0.0   \n",
       "52436 2017-06-21     998740   MALE  27.0             0.0              0.0   \n",
       "\n",
       "       dayofweek  \n",
       "52416        3.0  \n",
       "52417        4.0  \n",
       "52418        5.0  \n",
       "52419        6.0  \n",
       "52420        0.0  \n",
       "52421        1.0  \n",
       "52422        2.0  \n",
       "52423        3.0  \n",
       "52424        4.0  \n",
       "52425        5.0  \n",
       "52426        6.0  \n",
       "52427        0.0  \n",
       "52428        1.0  \n",
       "52429        2.0  \n",
       "52430        3.0  \n",
       "52431        4.0  \n",
       "52432        5.0  \n",
       "52433        6.0  \n",
       "52434        0.0  \n",
       "52435        1.0  \n",
       "52436        2.0  "
      ]
     },
     "execution_count": 15,
     "metadata": {},
     "output_type": "execute_result"
    }
   ],
   "source": [
    "## Verifying Data of Driver which was missing\n",
    "dataset[dataset.driver_id == 998740]"
   ]
  },
  {
   "cell_type": "markdown",
   "metadata": {},
   "source": [
    "#### Dataset len = Number of Drivers * 21 days => 2497*21 => 52437"
   ]
  },
  {
   "cell_type": "code",
   "execution_count": 16,
   "metadata": {},
   "outputs": [],
   "source": [
    "assert len(dataset) == 52437"
   ]
  },
  {
   "cell_type": "markdown",
   "metadata": {},
   "source": [
    "### Label Encoding: Replace Male: 0 and Female: 1"
   ]
  },
  {
   "cell_type": "code",
   "execution_count": 17,
   "metadata": {},
   "outputs": [],
   "source": [
    "dataset['gender'].replace({'FEMALE':1, 'MALE':0}, inplace = True)"
   ]
  },
  {
   "cell_type": "markdown",
   "metadata": {},
   "source": [
    "### Encoding-> 1: Weekend  0: Weekday"
   ]
  },
  {
   "cell_type": "code",
   "execution_count": 18,
   "metadata": {},
   "outputs": [],
   "source": [
    "dataset['weekend'] = dataset['dayofweek'].apply(lambda x: 0 if x < 5 else 1)"
   ]
  },
  {
   "cell_type": "markdown",
   "metadata": {},
   "source": [
    "### Training Data is Ready\n",
    "\n",
    "#### Data Analysis of Training Data"
   ]
  },
  {
   "cell_type": "code",
   "execution_count": 19,
   "metadata": {},
   "outputs": [],
   "source": [
    "dataset.to_csv('../processed_data_and_models/Training_Dataset.csv',index = False)"
   ]
  },
  {
   "cell_type": "code",
   "execution_count": 20,
   "metadata": {},
   "outputs": [],
   "source": [
    "profile = dataset.profile_report(title='Driver Training Data')"
   ]
  },
  {
   "cell_type": "code",
   "execution_count": 21,
   "metadata": {},
   "outputs": [
    {
     "data": {
      "application/vnd.jupyter.widget-view+json": {
       "model_id": "232bb465540149778f1a9a95ec4a094c",
       "version_major": 2,
       "version_minor": 0
      },
      "text/plain": [
       "HBox(children=(FloatProgress(value=0.0, description='Summarize dataset', max=22.0, style=ProgressStyle(descrip…"
      ]
     },
     "metadata": {},
     "output_type": "display_data"
    },
    {
     "name": "stdout",
     "output_type": "stream",
     "text": [
      "\n"
     ]
    },
    {
     "data": {
      "application/vnd.jupyter.widget-view+json": {
       "model_id": "4fdf28e153934472924a02fb9874e6e1",
       "version_major": 2,
       "version_minor": 0
      },
      "text/plain": [
       "HBox(children=(FloatProgress(value=0.0, description='Generate report structure', max=1.0, style=ProgressStyle(…"
      ]
     },
     "metadata": {},
     "output_type": "display_data"
    },
    {
     "name": "stdout",
     "output_type": "stream",
     "text": [
      "\n"
     ]
    },
    {
     "data": {
      "application/vnd.jupyter.widget-view+json": {
       "model_id": "d0012021f6734deeb3e65d8aa888f9d0",
       "version_major": 2,
       "version_minor": 0
      },
      "text/plain": [
       "HBox(children=(FloatProgress(value=0.0, description='Render HTML', max=1.0, style=ProgressStyle(description_wi…"
      ]
     },
     "metadata": {},
     "output_type": "display_data"
    },
    {
     "name": "stdout",
     "output_type": "stream",
     "text": [
      "\n"
     ]
    },
    {
     "data": {
      "application/vnd.jupyter.widget-view+json": {
       "model_id": "22801426324141ccad65895e652485a4",
       "version_major": 2,
       "version_minor": 0
      },
      "text/plain": [
       "HBox(children=(FloatProgress(value=0.0, description='Export report to file', max=1.0, style=ProgressStyle(desc…"
      ]
     },
     "metadata": {},
     "output_type": "display_data"
    },
    {
     "name": "stdout",
     "output_type": "stream",
     "text": [
      "\n"
     ]
    }
   ],
   "source": [
    "profile.to_file('../data_analysis_EDA/Driver_Training.html')"
   ]
  },
  {
   "cell_type": "markdown",
   "metadata": {},
   "source": [
    "### Preparing Test Data"
   ]
  },
  {
   "cell_type": "code",
   "execution_count": 22,
   "metadata": {},
   "outputs": [],
   "source": [
    "test_data = pd.read_csv('./../data/test.csv')"
   ]
  },
  {
   "cell_type": "code",
   "execution_count": 23,
   "metadata": {},
   "outputs": [],
   "source": [
    "test_data['date'] = pd.to_datetime(test_data['date']) \n",
    "test_data['dayofweek'] = test_data['date'].dt.dayofweek\n",
    "test_data['weekend'] = test_data['dayofweek'].apply(lambda x: 0 if x < 5 else 1)"
   ]
  },
  {
   "cell_type": "code",
   "execution_count": 24,
   "metadata": {},
   "outputs": [],
   "source": [
    "test = pd.merge(test_data,driver_profile, on = ['driver_id'])"
   ]
  },
  {
   "cell_type": "code",
   "execution_count": 25,
   "metadata": {},
   "outputs": [],
   "source": [
    "test['gender'].replace({'FEMALE':1, 'MALE':0}, inplace = True)\n",
    "test.to_csv('../processed_data_and_models/driver_test.csv',index = False)"
   ]
  }
 ],
 "metadata": {
  "kernelspec": {
   "display_name": "Python 3",
   "language": "python",
   "name": "python3"
  },
  "language_info": {
   "codemirror_mode": {
    "name": "ipython",
    "version": 3
   },
   "file_extension": ".py",
   "mimetype": "text/x-python",
   "name": "python",
   "nbconvert_exporter": "python",
   "pygments_lexer": "ipython3",
   "version": "3.7.6"
  }
 },
 "nbformat": 4,
 "nbformat_minor": 2
}
